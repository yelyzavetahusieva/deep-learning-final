{
 "cells": [
  {
   "cell_type": "code",
   "execution_count": 1,
   "id": "3f80a09b",
   "metadata": {},
   "outputs": [
    {
     "name": "stderr",
     "output_type": "stream",
     "text": [
      "/Users/lisahuiseva/deep-learning/.venv/lib/python3.11/site-packages/tqdm/auto.py:21: TqdmWarning: IProgress not found. Please update jupyter and ipywidgets. See https://ipywidgets.readthedocs.io/en/stable/user_install.html\n",
      "  from .autonotebook import tqdm as notebook_tqdm\n"
     ]
    }
   ],
   "source": [
    "from datasets import Dataset, DatasetDict\n",
    "import pandas as pd\n",
    "import json\n",
    "import re"
   ]
  },
  {
   "cell_type": "code",
   "execution_count": 2,
   "id": "4c879a7b",
   "metadata": {},
   "outputs": [],
   "source": [
    "with open(\"MathQA/train.json\", \"r\") as f:\n",
    "    train_data = json.load(f)\n",
    "train_data = pd.DataFrame(train_data)\n",
    "\n",
    "with open(\"MathQA/test.json\", \"r\") as f:\n",
    "    test_data = json.load(f)\n",
    "test_data = pd.DataFrame(test_data)\n",
    "\n",
    "data = pd.concat([train_data, test_data], ignore_index=True)"
   ]
  },
  {
   "cell_type": "code",
   "execution_count": 3,
   "id": "6a351400",
   "metadata": {},
   "outputs": [
    {
     "data": {
      "text/plain": [
       "32822"
      ]
     },
     "execution_count": 3,
     "metadata": {},
     "output_type": "execute_result"
    }
   ],
   "source": [
    "len(data)"
   ]
  },
  {
   "cell_type": "code",
   "execution_count": 6,
   "id": "c405df9b",
   "metadata": {},
   "outputs": [],
   "source": [
    "def extract_answer_text(row):\n",
    "    options = row['options']\n",
    "    correct_label = row['correct'].strip()\n",
    "\n",
    "    # Use regex to find all (label, text) pairs\n",
    "    pattern = r'([a-e])\\s*\\)\\s*([^,]+)'\n",
    "    matches = re.findall(pattern, options)\n",
    "\n",
    "    option_dict = {label.strip(): text.strip() for label, text in matches}\n",
    "    return option_dict.get(correct_label, \"unknown\")\n",
    "\n",
    "data['Answer'] = data.apply(extract_answer_text, axis=1)\n",
    "data.drop(columns=['options', 'correct', 'annotated_formula', 'linear_formula'], inplace=True)\n",
    "data.rename(columns={'category': 'Category'}, inplace=True)"
   ]
  },
  {
   "cell_type": "code",
   "execution_count": 7,
   "id": "e502ca77",
   "metadata": {},
   "outputs": [
    {
     "data": {
      "text/html": [
       "<div>\n",
       "<style scoped>\n",
       "    .dataframe tbody tr th:only-of-type {\n",
       "        vertical-align: middle;\n",
       "    }\n",
       "\n",
       "    .dataframe tbody tr th {\n",
       "        vertical-align: top;\n",
       "    }\n",
       "\n",
       "    .dataframe thead th {\n",
       "        text-align: right;\n",
       "    }\n",
       "</style>\n",
       "<table border=\"1\" class=\"dataframe\">\n",
       "  <thead>\n",
       "    <tr style=\"text-align: right;\">\n",
       "      <th></th>\n",
       "      <th>Problem</th>\n",
       "      <th>Rationale</th>\n",
       "      <th>Category</th>\n",
       "      <th>Answer</th>\n",
       "    </tr>\n",
       "  </thead>\n",
       "  <tbody>\n",
       "    <tr>\n",
       "      <th>0</th>\n",
       "      <td>the banker ' s gain of a certain sum due 3 yea...</td>\n",
       "      <td>\"explanation : t = 3 years r = 10 % td = ( bg ...</td>\n",
       "      <td>gain</td>\n",
       "      <td>rs . 400</td>\n",
       "    </tr>\n",
       "    <tr>\n",
       "      <th>1</th>\n",
       "      <td>average age of students of an adult school is ...</td>\n",
       "      <td>\"explanation : let the original no . of studen...</td>\n",
       "      <td>general</td>\n",
       "      <td>240</td>\n",
       "    </tr>\n",
       "    <tr>\n",
       "      <th>2</th>\n",
       "      <td>sophia finished 2 / 3 of a book . she calculat...</td>\n",
       "      <td>let xx be the total number of pages in the boo...</td>\n",
       "      <td>general</td>\n",
       "      <td>270</td>\n",
       "    </tr>\n",
       "    <tr>\n",
       "      <th>3</th>\n",
       "      <td>120 is what percent of 50 ?</td>\n",
       "      <td>\"50 * x = 120 - - &gt; x = 2.4 - - &gt; 2.4 expresse...</td>\n",
       "      <td>gain</td>\n",
       "      <td>240 %</td>\n",
       "    </tr>\n",
       "    <tr>\n",
       "      <th>4</th>\n",
       "      <td>there are 10 girls and 20 boys in a classroom ...</td>\n",
       "      <td>if girls is 10 and boys is 20 , then 10 / 20 ....</td>\n",
       "      <td>other</td>\n",
       "      <td>1 / 2</td>\n",
       "    </tr>\n",
       "  </tbody>\n",
       "</table>\n",
       "</div>"
      ],
      "text/plain": [
       "                                             Problem  \\\n",
       "0  the banker ' s gain of a certain sum due 3 yea...   \n",
       "1  average age of students of an adult school is ...   \n",
       "2  sophia finished 2 / 3 of a book . she calculat...   \n",
       "3                        120 is what percent of 50 ?   \n",
       "4  there are 10 girls and 20 boys in a classroom ...   \n",
       "\n",
       "                                           Rationale Category    Answer  \n",
       "0  \"explanation : t = 3 years r = 10 % td = ( bg ...     gain  rs . 400  \n",
       "1  \"explanation : let the original no . of studen...  general       240  \n",
       "2  let xx be the total number of pages in the boo...  general       270  \n",
       "3  \"50 * x = 120 - - > x = 2.4 - - > 2.4 expresse...     gain     240 %  \n",
       "4  if girls is 10 and boys is 20 , then 10 / 20 ....    other     1 / 2  "
      ]
     },
     "execution_count": 7,
     "metadata": {},
     "output_type": "execute_result"
    }
   ],
   "source": [
    "data.head()"
   ]
  },
  {
   "cell_type": "code",
   "execution_count": 8,
   "id": "d83ed973",
   "metadata": {},
   "outputs": [
    {
     "data": {
      "text/plain": [
       "DatasetDict({\n",
       "    train: Dataset({\n",
       "        features: ['Problem', 'Rationale', 'Category', 'Answer'],\n",
       "        num_rows: 29539\n",
       "    })\n",
       "    test: Dataset({\n",
       "        features: ['Problem', 'Rationale', 'Category', 'Answer'],\n",
       "        num_rows: 3283\n",
       "    })\n",
       "})"
      ]
     },
     "execution_count": 8,
     "metadata": {},
     "output_type": "execute_result"
    }
   ],
   "source": [
    "hf_dataset = Dataset.from_pandas(data)\n",
    "\n",
    "split = hf_dataset.train_test_split(test_size=0.1)\n",
    "dataset_dict = DatasetDict({\n",
    "    \"train\": split[\"train\"],\n",
    "    \"test\": split[\"test\"]\n",
    "})\n",
    "\n",
    "dataset_dict"
   ]
  },
  {
   "cell_type": "code",
   "execution_count": 9,
   "id": "ec96493f",
   "metadata": {},
   "outputs": [
    {
     "name": "stderr",
     "output_type": "stream",
     "text": [
      "Saving the dataset (1/1 shards): 100%|██████████| 29539/29539 [00:00<00:00, 193357.48 examples/s]\n",
      "Saving the dataset (1/1 shards): 100%|██████████| 3283/3283 [00:00<00:00, 167798.74 examples/s]\n"
     ]
    }
   ],
   "source": [
    "dataset_dict.save_to_disk(\"dataset\")"
   ]
  }
 ],
 "metadata": {
  "kernelspec": {
   "display_name": ".venv",
   "language": "python",
   "name": "python3"
  },
  "language_info": {
   "codemirror_mode": {
    "name": "ipython",
    "version": 3
   },
   "file_extension": ".py",
   "mimetype": "text/x-python",
   "name": "python",
   "nbconvert_exporter": "python",
   "pygments_lexer": "ipython3",
   "version": "3.11.0"
  }
 },
 "nbformat": 4,
 "nbformat_minor": 5
}
